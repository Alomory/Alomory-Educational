{
 "cells": [
  {
   "cell_type": "code",
   "execution_count": 1,
   "id": "9660c397",
   "metadata": {},
   "outputs": [
    {
     "name": "stdout",
     "output_type": "stream",
     "text": [
      "Hello World\n"
     ]
    }
   ],
   "source": [
    "print(\"Hello World\")"
   ]
  },
  {
   "cell_type": "code",
   "execution_count": 2,
   "id": "ceea944e",
   "metadata": {},
   "outputs": [
    {
     "ename": "IndentationError",
     "evalue": "expected an indented block after 'if' statement on line 1 (2531875931.py, line 2)",
     "output_type": "error",
     "traceback": [
      "\u001b[1;36m  Cell \u001b[1;32mIn[2], line 2\u001b[1;36m\u001b[0m\n\u001b[1;33m    print(\"Wrong identation\")\u001b[0m\n\u001b[1;37m    ^\u001b[0m\n\u001b[1;31mIndentationError\u001b[0m\u001b[1;31m:\u001b[0m expected an indented block after 'if' statement on line 1\n"
     ]
    }
   ],
   "source": [
    "if 5>3 :\n",
    "print(\"Wrong identation\")"
   ]
  },
  {
   "cell_type": "code",
   "execution_count": 3,
   "id": "0df9a053",
   "metadata": {},
   "outputs": [
    {
     "name": "stdout",
     "output_type": "stream",
     "text": [
      "Right identation\n"
     ]
    }
   ],
   "source": [
    "if 5>3 :\n",
    "    print(\"Right identation\")"
   ]
  },
  {
   "cell_type": "code",
   "execution_count": 4,
   "id": "7b8cfa86",
   "metadata": {},
   "outputs": [
    {
     "name": "stdout",
     "output_type": "stream",
     "text": [
      "comment test\n"
     ]
    }
   ],
   "source": [
    "#this is comment\n",
    "print(\"comment test\")"
   ]
  },
  {
   "cell_type": "code",
   "execution_count": 5,
   "id": "97575d31",
   "metadata": {},
   "outputs": [
    {
     "name": "stdout",
     "output_type": "stream",
     "text": [
      "comment test\n"
     ]
    }
   ],
   "source": [
    "#this is comment\n",
    "#python does not have multiline comment\n",
    "print(\"comment test\")"
   ]
  },
  {
   "cell_type": "code",
   "execution_count": 6,
   "id": "2f94b017",
   "metadata": {},
   "outputs": [
    {
     "name": "stdout",
     "output_type": "stream",
     "text": [
      "BMW\n",
      "6.0098\n",
      "5\n"
     ]
    }
   ],
   "source": [
    "a = 5 \n",
    "b = 6.0098\n",
    "_car = 'BMW' #can use ' ' or \" \"\n",
    "print(_car)\n",
    "print(b)\n",
    "print(a)"
   ]
  },
  {
   "cell_type": "code",
   "execution_count": 7,
   "id": "dc8a360f",
   "metadata": {},
   "outputs": [
    {
     "name": "stdout",
     "output_type": "stream",
     "text": [
      "BMW\n",
      "Mercedes\n",
      "Volkwagen\n"
     ]
    }
   ],
   "source": [
    "car1, car2, car3 = 'BMW','Mercedes',\"Volkwagen\"\n",
    "print(car1)\n",
    "print(car2)\n",
    "print(car3)"
   ]
  },
  {
   "cell_type": "code",
   "execution_count": 8,
   "id": "1b4e035d",
   "metadata": {},
   "outputs": [
    {
     "name": "stdout",
     "output_type": "stream",
     "text": [
      "Viva\n",
      "Viva\n",
      "Viva\n"
     ]
    }
   ],
   "source": [
    "car1 = car2 = car3 = \"Viva\"\n",
    "print(car1)\n",
    "print(car2)\n",
    "print(car3)"
   ]
  },
  {
   "cell_type": "code",
   "execution_count": 9,
   "id": "1e01ccd0",
   "metadata": {},
   "outputs": [
    {
     "name": "stdout",
     "output_type": "stream",
     "text": [
      "My name is Dan\n"
     ]
    }
   ],
   "source": [
    "name ='Dan'\n",
    "print('My name is '+name)"
   ]
  },
  {
   "cell_type": "code",
   "execution_count": 10,
   "id": "ede514eb",
   "metadata": {},
   "outputs": [
    {
     "name": "stdout",
     "output_type": "stream",
     "text": [
      "My name is Dan\n"
     ]
    }
   ],
   "source": [
    "name = 'Dan'\n",
    "ayat = 'My name is '\n",
    "print(ayat+name)"
   ]
  },
  {
   "cell_type": "code",
   "execution_count": 11,
   "id": "30520213",
   "metadata": {},
   "outputs": [
    {
     "name": "stdout",
     "output_type": "stream",
     "text": [
      "2040\n"
     ]
    }
   ],
   "source": [
    "number1 = 20\n",
    "number2 = 2020\n",
    "print(number1+number2)"
   ]
  },
  {
   "cell_type": "code",
   "execution_count": 15,
   "id": "d966828b",
   "metadata": {},
   "outputs": [
    {
     "name": "stdout",
     "output_type": "stream",
     "text": [
      "Jitra\n",
      "sungai Petani\n"
     ]
    }
   ],
   "source": [
    "#global variable \n",
    "location = 'sungai Petani'\n",
    "def function1():\n",
    "    #local variable\n",
    "    location = 'Jitra'\n",
    "    print(location)\n",
    "    \n",
    "function1()\n",
    "print(location)"
   ]
  },
  {
   "cell_type": "code",
   "execution_count": 16,
   "id": "a47a4298",
   "metadata": {},
   "outputs": [
    {
     "name": "stdout",
     "output_type": "stream",
     "text": [
      "Jitra\n",
      "Jitra\n"
     ]
    }
   ],
   "source": [
    "#global variable \n",
    "location = 'sungai Petani'\n",
    "def function1():\n",
    "    #global variable created\n",
    "    #inside function\n",
    "    global location\n",
    "    location = 'Jitra'\n",
    "    print(location)\n",
    "    \n",
    "function1()\n",
    "print(location)"
   ]
  },
  {
   "cell_type": "code",
   "execution_count": 17,
   "id": "44ab4073",
   "metadata": {},
   "outputs": [
    {
     "name": "stdout",
     "output_type": "stream",
     "text": [
      "['wij', 'dan', 'mohamad']\n",
      "<class 'list'>\n"
     ]
    }
   ],
   "source": [
    "e = [\"wij\", \"dan\", \"mohamad\"]\n",
    "print(e)\n",
    "print(type(e))"
   ]
  },
  {
   "cell_type": "code",
   "execution_count": 19,
   "id": "c7b96aed",
   "metadata": {},
   "outputs": [
    {
     "name": "stdout",
     "output_type": "stream",
     "text": [
      "('wij', 'dan', 'mohamad')\n",
      "<class 'tuple'>\n"
     ]
    }
   ],
   "source": [
    "f = (\"wij\", \"dan\", \"mohamad\")\n",
    "print(f)\n",
    "print(type(f))"
   ]
  },
  {
   "cell_type": "code",
   "execution_count": 20,
   "id": "580e0034",
   "metadata": {},
   "outputs": [
    {
     "name": "stdout",
     "output_type": "stream",
     "text": [
      "['wij', 'dan', 'mohamad']\n",
      "['wij', 'dan', 'ariff']\n"
     ]
    }
   ],
   "source": [
    "e = [\"wij\", \"dan\", \"mohamad\"]\n",
    "print(e)\n",
    "\n",
    "e[2] = \"ariff\"\n",
    "print(e)"
   ]
  },
  {
   "cell_type": "code",
   "execution_count": 23,
   "id": "8a9350fa",
   "metadata": {},
   "outputs": [
    {
     "name": "stdout",
     "output_type": "stream",
     "text": [
      "('wij', 'dan', 'mohamad')\n"
     ]
    },
    {
     "ename": "NameError",
     "evalue": "name 'ariff' is not defined",
     "output_type": "error",
     "traceback": [
      "\u001b[1;31m---------------------------------------------------------------------------\u001b[0m",
      "\u001b[1;31mNameError\u001b[0m                                 Traceback (most recent call last)",
      "Cell \u001b[1;32mIn[23], line 3\u001b[0m\n\u001b[0;32m      1\u001b[0m f \u001b[38;5;241m=\u001b[39m (\u001b[38;5;124m\"\u001b[39m\u001b[38;5;124mwij\u001b[39m\u001b[38;5;124m\"\u001b[39m, \u001b[38;5;124m\"\u001b[39m\u001b[38;5;124mdan\u001b[39m\u001b[38;5;124m\"\u001b[39m, \u001b[38;5;124m\"\u001b[39m\u001b[38;5;124mmohamad\u001b[39m\u001b[38;5;124m\"\u001b[39m)\n\u001b[0;32m      2\u001b[0m \u001b[38;5;28mprint\u001b[39m(f)\n\u001b[1;32m----> 3\u001b[0m f[\u001b[38;5;241m2\u001b[39m] \u001b[38;5;241m=\u001b[39m \u001b[43mariff\u001b[49m\n\u001b[0;32m      4\u001b[0m \u001b[38;5;28mprint\u001b[39m(f)\n",
      "\u001b[1;31mNameError\u001b[0m: name 'ariff' is not defined"
     ]
    }
   ],
   "source": [
    "f = (\"wij\", \"dan\", \"mohamad\")\n",
    "print(f)\n",
    "f[2] = ariff\n",
    "print(f)"
   ]
  },
  {
   "cell_type": "code",
   "execution_count": 24,
   "id": "80ffbcd6",
   "metadata": {},
   "outputs": [
    {
     "name": "stdout",
     "output_type": "stream",
     "text": [
      "72\n",
      "48\n"
     ]
    }
   ],
   "source": [
    "e = [\"wij\", \"dan\", \"mohamad\"]\n",
    "f = (\"wij\", \"dan\", \"mohamad\")\n",
    "print(e.__sizeof__())\n",
    "print(f.__sizeof__())"
   ]
  },
  {
   "cell_type": "code",
   "execution_count": 25,
   "id": "9a74509c",
   "metadata": {},
   "outputs": [
    {
     "name": "stdout",
     "output_type": "stream",
     "text": [
      "his name is wijdan\n",
      "his age is 20\n"
     ]
    }
   ],
   "source": [
    "h = {'name': 'wijdan', 'age':20}\n",
    "print(\"his name is\", h['name'])\n",
    "print(\"his age is\", h['age'])"
   ]
  },
  {
   "cell_type": "code",
   "execution_count": 26,
   "id": "6d926eb1",
   "metadata": {},
   "outputs": [
    {
     "name": "stdout",
     "output_type": "stream",
     "text": [
      "1 2 3 4\n",
      "1#2#3#4."
     ]
    }
   ],
   "source": [
    "print(1,2,3,4)\n",
    "print(1,2,3,4, sep='#', end='.')"
   ]
  },
  {
   "cell_type": "code",
   "execution_count": 28,
   "id": "b1b21bc2",
   "metadata": {},
   "outputs": [
    {
     "name": "stdout",
     "output_type": "stream",
     "text": [
      "I am 10 years old in 2020\n"
     ]
    }
   ],
   "source": [
    "x = 10\n",
    "y = 2020\n",
    "print(\"I am {} years old in {}\".format(x,y))"
   ]
  },
  {
   "cell_type": "code",
   "execution_count": 29,
   "id": "dc175dc2",
   "metadata": {},
   "outputs": [
    {
     "name": "stdout",
     "output_type": "stream",
     "text": [
      "i love Arun and Haz\n",
      "i love Haz and Arun\n"
     ]
    }
   ],
   "source": [
    "print(\"i love {0} and {1}\".format(\"Arun\", \"Haz\"))\n",
    "print(\"i love {1} and {0}\".format(\"Arun\", \"Haz\"))"
   ]
  },
  {
   "cell_type": "code",
   "execution_count": 30,
   "id": "246db69a",
   "metadata": {},
   "outputs": [
    {
     "name": "stdout",
     "output_type": "stream",
     "text": [
      "Enter a Number :200\n"
     ]
    },
    {
     "data": {
      "text/plain": [
       "'200'"
      ]
     },
     "execution_count": 30,
     "metadata": {},
     "output_type": "execute_result"
    }
   ],
   "source": [
    "z = input('Enter a Number :')\n",
    "z"
   ]
  },
  {
   "cell_type": "code",
   "execution_count": 31,
   "id": "42b91b37",
   "metadata": {},
   "outputs": [
    {
     "name": "stdout",
     "output_type": "stream",
     "text": [
      "enter your name: Omar\n",
      "enter your age: 20\n"
     ]
    }
   ],
   "source": [
    "name, age = input('enter your name: '), int(input(\"enter your age: \"))"
   ]
  },
  {
   "cell_type": "code",
   "execution_count": 32,
   "id": "adc8b74b",
   "metadata": {},
   "outputs": [
    {
     "name": "stdout",
     "output_type": "stream",
     "text": [
      "x + y =  6\n",
      "x - y =  -2\n",
      "x * y =  8\n",
      "x / y =  0.5\n",
      "x // y =  0\n",
      "x ** y =  16\n"
     ]
    }
   ],
   "source": [
    "x = 2 \n",
    "y = 4 \n",
    "print(\"x + y = \",x+y)\n",
    "print(\"x - y = \",x-y)\n",
    "print(\"x * y = \",x*y)\n",
    "print(\"x / y = \",x/y)\n",
    "print(\"x // y = \",x//y)\n",
    "print(\"x ** y = \",x**y)"
   ]
  },
  {
   "cell_type": "code",
   "execution_count": 33,
   "id": "e83806b4",
   "metadata": {},
   "outputs": [
    {
     "name": "stdout",
     "output_type": "stream",
     "text": [
      "x > y =  False\n",
      "x < y =  True\n",
      "x == y =  False\n",
      "x != y =  True\n",
      "x >= y =  False\n",
      "x <= y =  True\n"
     ]
    }
   ],
   "source": [
    "x = 2 \n",
    "y = 4\n",
    "print(\"x > y = \",x>y)\n",
    "print(\"x < y = \",x<y)\n",
    "print(\"x == y = \",x==y)\n",
    "print(\"x != y = \",x!=y)\n",
    "print(\"x >= y = \",x>=y)\n",
    "print(\"x <= y = \",x<=y)"
   ]
  },
  {
   "cell_type": "code",
   "execution_count": 35,
   "id": "7bfaa87b",
   "metadata": {},
   "outputs": [
    {
     "name": "stdout",
     "output_type": "stream",
     "text": [
      "x and y =  True\n",
      "x or y =  False\n",
      "x not y =  False\n"
     ]
    }
   ],
   "source": [
    "x = True\n",
    "y = False\n",
    "print(\"x and y = \", x>y)\n",
    "print(\"x or y = \", x<y)\n",
    "print(\"x not y = \",x==y)\n"
   ]
  },
  {
   "cell_type": "code",
   "execution_count": 36,
   "id": "f6b39eb0",
   "metadata": {},
   "outputs": [
    {
     "name": "stdout",
     "output_type": "stream",
     "text": [
      "0\n",
      "12\n",
      "-9\n",
      "12\n",
      "2\n",
      "32\n"
     ]
    }
   ],
   "source": [
    "x = 8 \n",
    "y = 4 \n",
    "\n",
    "print(x&y)\n",
    "print(x|y)\n",
    "print(~x)#not\n",
    "print(x^y)#exclusive or\n",
    "print(x>>2)# bitwise right shift\n",
    "print(x<<2)#bitwise left shift"
   ]
  },
  {
   "cell_type": "code",
   "execution_count": 37,
   "id": "ef580532",
   "metadata": {},
   "outputs": [
    {
     "name": "stdout",
     "output_type": "stream",
     "text": [
      "Enter a number: 200\n"
     ]
    },
    {
     "data": {
      "text/plain": [
       "'200'"
      ]
     },
     "execution_count": 37,
     "metadata": {},
     "output_type": "execute_result"
    }
   ],
   "source": [
    "z = input(\"Enter a number: \")\n",
    "z"
   ]
  },
  {
   "cell_type": "code",
   "execution_count": 38,
   "id": "2b428706",
   "metadata": {},
   "outputs": [
    {
     "name": "stdout",
     "output_type": "stream",
     "text": [
      "enter your name: wijdan\n",
      "enter your age20\n"
     ]
    }
   ],
   "source": [
    "name, age = input(\"enter your name: \"),int(input(\"enter your age\"))"
   ]
  },
  {
   "cell_type": "code",
   "execution_count": null,
   "id": "44a82868",
   "metadata": {},
   "outputs": [],
   "source": []
  }
 ],
 "metadata": {
  "kernelspec": {
   "display_name": "Python 3 (ipykernel)",
   "language": "python",
   "name": "python3"
  },
  "language_info": {
   "codemirror_mode": {
    "name": "ipython",
    "version": 3
   },
   "file_extension": ".py",
   "mimetype": "text/x-python",
   "name": "python",
   "nbconvert_exporter": "python",
   "pygments_lexer": "ipython3",
   "version": "3.10.9"
  }
 },
 "nbformat": 4,
 "nbformat_minor": 5
}
