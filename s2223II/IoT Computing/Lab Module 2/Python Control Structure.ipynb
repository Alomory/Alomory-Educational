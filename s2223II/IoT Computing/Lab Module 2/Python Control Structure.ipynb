{
 "cells": [
  {
   "cell_type": "code",
   "execution_count": 2,
   "id": "2ded66e1",
   "metadata": {},
   "outputs": [
    {
     "name": "stdout",
     "output_type": "stream",
     "text": [
      "enter a number: 20\n",
      "positive number\n"
     ]
    }
   ],
   "source": [
    "#taking input from user\n",
    "value = int(input('enter a number: '))\n",
    "\n",
    "#condition\n",
    "if value > 0:\n",
    "    print('positive number')\n",
    "elif value == 0:\n",
    "    print('zero')\n",
    "else:\n",
    "    print('negative number')"
   ]
  },
  {
   "cell_type": "code",
   "execution_count": 4,
   "id": "cc69724b",
   "metadata": {},
   "outputs": [
    {
     "name": "stdout",
     "output_type": "stream",
     "text": [
      "BMW\n",
      "Merc\n",
      "Proton\n"
     ]
    }
   ],
   "source": [
    "car = ['BMW', 'Merc','Proton']\n",
    "for x in car:\n",
    "       print(x)"
   ]
  },
  {
   "cell_type": "code",
   "execution_count": 5,
   "id": "227b5fff",
   "metadata": {},
   "outputs": [
    {
     "name": "stdout",
     "output_type": "stream",
     "text": [
      "M\n",
      "e\n",
      "r\n",
      "c\n",
      "e\n",
      "d\n",
      "e\n",
      "s\n"
     ]
    }
   ],
   "source": [
    "for x in 'Mercedes':\n",
    "    print(x)"
   ]
  },
  {
   "cell_type": "code",
   "execution_count": 8,
   "id": "b38200a5",
   "metadata": {},
   "outputs": [
    {
     "name": "stdout",
     "output_type": "stream",
     "text": [
      "(1) a lower than b\n",
      "(2) a lower than b\n",
      "(3) a lower than b\n",
      "(4) a lower than b\n",
      "(5) a lower than b\n",
      "(6) a lower than b\n",
      "(7) a lower than b\n",
      "(8) a lower than b\n",
      "(9) a lower than b\n"
     ]
    }
   ],
   "source": [
    "a = 1 \n",
    "b = 10\n",
    "#it will iterate till a < b \n",
    "while a < b:\n",
    "    print('('+str(a)+') a lower than b')\n",
    "    #(in each loob a will be incremented by 1)\n",
    "    a+=1;"
   ]
  },
  {
   "cell_type": "code",
   "execution_count": 9,
   "id": "174b04bf",
   "metadata": {},
   "outputs": [
    {
     "name": "stdout",
     "output_type": "stream",
     "text": [
      "a:20\n",
      "b:30\n",
      "50\n"
     ]
    }
   ],
   "source": [
    "def my_function():\n",
    "    \"\"\"This function to make addition between a and b\"\"\"\n",
    "    a = int(input('a:'))\n",
    "    b = int(input('b:'))\n",
    "    print(a+b)\n",
    "    \n",
    "my_function()"
   ]
  },
  {
   "cell_type": "code",
   "execution_count": 15,
   "id": "8779b4d5",
   "metadata": {},
   "outputs": [
    {
     "name": "stdout",
     "output_type": "stream",
     "text": [
      "Enter your body temperature: 38\n",
      "You have a fever. Go to the clinic.\n",
      "Enter your body temperature: 37\n",
      "You are healthy.\n"
     ]
    }
   ],
   "source": [
    "def temp_Measurement_function():\n",
    "    body_temp = int(input('Enter your body temperature: '))\n",
    "    if(body_temp > 37):\n",
    "        print('You have a fever. Go to the clinic.')\n",
    "    else:\n",
    "        print('You are healthy.')\n",
    "\n",
    "temp_Measurement_function()\n",
    "temp_Measurement_function()"
   ]
  },
  {
   "cell_type": "code",
   "execution_count": null,
   "id": "4239203b",
   "metadata": {},
   "outputs": [],
   "source": []
  }
 ],
 "metadata": {
  "kernelspec": {
   "display_name": "Python 3 (ipykernel)",
   "language": "python",
   "name": "python3"
  },
  "language_info": {
   "codemirror_mode": {
    "name": "ipython",
    "version": 3
   },
   "file_extension": ".py",
   "mimetype": "text/x-python",
   "name": "python",
   "nbconvert_exporter": "python",
   "pygments_lexer": "ipython3",
   "version": "3.10.9"
  }
 },
 "nbformat": 4,
 "nbformat_minor": 5
}
